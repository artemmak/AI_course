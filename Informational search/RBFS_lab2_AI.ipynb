{
 "cells": [
  {
   "cell_type": "code",
   "execution_count": 83,
   "metadata": {},
   "outputs": [],
   "source": [
    "from copy import deepcopy\n",
    "import time\n",
    "import sys"
   ]
  },
  {
   "cell_type": "code",
   "execution_count": 84,
   "metadata": {},
   "outputs": [],
   "source": [
    "class State:\n",
    "    shore = None  \n",
    "    boat = 0\n",
    "    path = None \n",
    "\n",
    "    \n",
    "    def __init__(self, s=[], b=0):\n",
    "        self.shore = s\n",
    "        self.boat = b\n",
    "        self.path = []\n",
    "\n"
   ]
  },
  {
   "cell_type": "code",
   "execution_count": 90,
   "metadata": {},
   "outputs": [],
   "source": [
    "def check_for_valid(current):\n",
    "    for i in range(0, 3):\n",
    "        if current.shore[i] != current.shore[3 + i]:  \n",
    "            for j in range(3, 3 * 2):\n",
    "                if (current.shore[j] == current.shore[i]): \n",
    "                    return 1\n",
    "    return 0\n",
    "\n",
    "\n",
    "def change_side(bit):  # зміна позиції лодки чи персонажа\n",
    "    return abs(bit - 1)\n",
    "\n",
    "\n",
    "def isGood(state):  #повертає список з людьми на боці з лодкою\n",
    "    good_people = deepcopy(state.shore)\n",
    "    for i in range(0, len(state.shore)):\n",
    "        if state.shore[i] == state.boat:\n",
    "            good_people[i] = 1\n",
    "    return good_people\n",
    "\n",
    "\n",
    "def f(state): \n",
    "    result = len(state.shore)\n",
    "    for i in state.shore:\n",
    "        result = result - i\n",
    "    return result\n",
    "\n",
    "\n",
    "def visited(state, searched):\n",
    "    for k in range(0, len(searched)):\n",
    "        if state.shore == searched[k].shore and state.boat == searched[k].boat:\n",
    "            return True\n",
    "    return False\n",
    "\n",
    "\n",
    "def move(cap, state, movement, result,start):  \n",
    "    for i in range(start, len(state.shore)):\n",
    "        if isGood(state)[i] == 1:\n",
    "            movement.append(i)\n",
    "            if cap > 1:  \n",
    "                move(cap - 1, state, movement, result,i)\n",
    "            if cap == 1: \n",
    "                result.append(deepcopy(movement))\n",
    "            movement.pop() \n",
    "    return result\n",
    "\n",
    "\n",
    "def expand(state):\n",
    "    curent_state = deepcopy(state)\n",
    "    result = []\n",
    "    possible_moves = move(2, state, [], result, 0)  \n",
    "    for i in possible_moves:  \n",
    "        curent_state = deepcopy(state)\n",
    "        for j in i:\n",
    "            curent_state.shore[j] = change_side(state.shore[j])  \n",
    "        curent_state.boat = change_side(state.boat)  \n",
    "        if visited(curent_state, searched):  \n",
    "            True\n",
    "        elif check_for_valid(curent_state):  \n",
    "            searched.append(curent_state)\n",
    "        elif True:\n",
    "            curent_state.path.append(state) \n",
    "            states_list.append(curent_state)"
   ]
  },
  {
   "cell_type": "code",
   "execution_count": 91,
   "metadata": {},
   "outputs": [],
   "source": [
    "initial = State()\n",
    "goal = State()\n",
    "states_list = [] \n",
    "searched = [] \n",
    "\n",
    "\n",
    "initial.shore = [0,0,0,0,0,0]\n",
    "states_list.append(initial)"
   ]
  },
  {
   "cell_type": "code",
   "execution_count": 92,
   "metadata": {},
   "outputs": [],
   "source": [
    "def RBEST(noStates):\n",
    "\n",
    "    states_list.sort(key=lambda state: f(state))\n",
    "\n",
    "    current = states_list.pop(0)  \n",
    "\n",
    "    if f(current) == 0:  \n",
    "        return current  \n",
    "\n",
    "    expand(current) \n",
    "    searched.append(current)  \n",
    "    current = RBEST(noStates)\n",
    "    return current"
   ]
  },
  {
   "cell_type": "code",
   "execution_count": 93,
   "metadata": {},
   "outputs": [],
   "source": [
    "initial = State([], 0)\n",
    "goal = State([], 0)\n",
    "path = []\n",
    "states_list = []  # open list (frontier)\n",
    "searched = []  # closed list\n",
    "noStates = 0\n",
    "\n",
    "\n",
    "initial.shore = [0,0,0,0,0,0]\n",
    "states_list.append(initial)\n",
    "\n",
    "goal = RBEST(noStates)"
   ]
  },
  {
   "cell_type": "code",
   "execution_count": 94,
   "metadata": {},
   "outputs": [
    {
     "name": "stdout",
     "output_type": "stream",
     "text": [
      "\n",
      "Success:  [1, 1, 1, 1, 1, 1]  reached\n",
      "Path: \n",
      "[0, 0, 0, 0, 0, 0]\n",
      "[1, 1, 0, 0, 0, 0]\n",
      "[0, 1, 0, 0, 0, 0]\n",
      "[1, 1, 1, 0, 0, 0]\n",
      "[0, 1, 1, 0, 0, 0]\n",
      "[0, 1, 1, 0, 1, 1]\n",
      "[0, 0, 1, 0, 0, 1]\n",
      "[0, 0, 1, 1, 1, 1]\n",
      "[0, 0, 0, 1, 1, 1]\n",
      "[1, 1, 0, 1, 1, 1]\n",
      "[0, 1, 0, 1, 1, 1]\n"
     ]
    }
   ],
   "source": [
    "print(\"\\nSuccess: \", goal.shore, \" reached\")\n",
    "print(\"Path: \")\n",
    "for i in goal.path:\n",
    "    print(i.shore)"
   ]
  },
  {
   "cell_type": "code",
   "execution_count": null,
   "metadata": {},
   "outputs": [],
   "source": []
  },
  {
   "cell_type": "code",
   "execution_count": null,
   "metadata": {},
   "outputs": [],
   "source": []
  }
 ],
 "metadata": {
  "kernelspec": {
   "display_name": "Python 3",
   "language": "python",
   "name": "python3"
  },
  "language_info": {
   "codemirror_mode": {
    "name": "ipython",
    "version": 3
   },
   "file_extension": ".py",
   "mimetype": "text/x-python",
   "name": "python",
   "nbconvert_exporter": "python",
   "pygments_lexer": "ipython3",
   "version": "3.7.3"
  }
 },
 "nbformat": 4,
 "nbformat_minor": 2
}
