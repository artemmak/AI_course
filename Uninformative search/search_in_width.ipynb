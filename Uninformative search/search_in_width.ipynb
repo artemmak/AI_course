{
 "cells": [
  {
   "cell_type": "code",
   "execution_count": 1,
   "metadata": {},
   "outputs": [],
   "source": [
    "d = {} \n",
    "\n",
    "def state_search(state):\n",
    "    global states_list\n",
    "    index = state.index(None)\n",
    "    for i in range(index-2, index+3):\n",
    "        if (i in range(7)) & (i !=index):\n",
    "            new_state = state.copy()\n",
    "            new_state[index], new_state[i] = new_state[i], new_state[index]\n",
    "            \n",
    "            state_h = hash(str(new_state))\n",
    "            if state_h in set_state:\n",
    "                continue\n",
    "            else:\n",
    "                d[str(new_state)] = str(state)\n",
    "                set_state.add(state_h)\n",
    "                states_list.append(new_state)\n",
    "                if checking(new_state):\n",
    "                    break\n",
    "\n",
    "def checking(state):\n",
    "    return state == [0,0,0,None,1,1,1]"
   ]
  },
  {
   "cell_type": "code",
   "execution_count": 12,
   "metadata": {},
   "outputs": [
    {
     "name": "stdout",
     "output_type": "stream",
     "text": [
      "CPU times: user 1.32 ms, sys: 3 µs, total: 1.32 ms\n",
      "Wall time: 1.32 ms\n"
     ]
    }
   ],
   "source": [
    "%%time\n",
    "set_state = set()\n",
    "states_list = [[1,1,1,None,0,0,0]]\n",
    "curent_index = 0\n",
    "\n",
    "while True:\n",
    "    for i in range(curent_index, len(states_list)):\n",
    "        if checking(states_list[i]):\n",
    "            curent_index = i\n",
    "            break\n",
    "        state_search(states_list[i])\n",
    "        curent_index+=1\n",
    "    if checking(states_list[curent_index]):\n",
    "        break\n",
    "        \n",
    "all_movements = []\n",
    "value = str([0,0,0,None,1,1,1])\n",
    "all_movements.append(value)\n",
    "while value != str([1,1,1,None,0,0,0]):\n",
    "    value = d[value]\n",
    "    all_movements.append(value)\n",
    "all_movements = all_movements[::-1]"
   ]
  },
  {
   "cell_type": "code",
   "execution_count": null,
   "metadata": {},
   "outputs": [],
   "source": []
  },
  {
   "cell_type": "code",
   "execution_count": 13,
   "metadata": {},
   "outputs": [
    {
     "data": {
      "text/plain": [
       "['[1, 0, 1, 0, None, 1, 0]',\n",
       " '[1, 0, None, 0, 1, 1, 0]',\n",
       " '[None, 0, 1, 0, 1, 1, 0]',\n",
       " '[0, None, 1, 0, 1, 1, 0]',\n",
       " '[0, 0, 1, None, 1, 1, 0]',\n",
       " '[0, 0, 1, 1, None, 1, 0]',\n",
       " '[0, 0, 1, 1, 0, 1, None]',\n",
       " '[0, 0, 1, 1, 0, None, 1]',\n",
       " '[0, 0, 1, None, 0, 1, 1]',\n",
       " '[0, 0, None, 1, 0, 1, 1]',\n",
       " '[0, 0, 0, 1, None, 1, 1]',\n",
       " '[0, 0, 0, None, 1, 1, 1]']"
      ]
     },
     "execution_count": 13,
     "metadata": {},
     "output_type": "execute_result"
    }
   ],
   "source": [
    "all_movements"
   ]
  },
  {
   "cell_type": "code",
   "execution_count": null,
   "metadata": {},
   "outputs": [],
   "source": []
  }
 ],
 "metadata": {
  "kernelspec": {
   "display_name": "Python 3",
   "language": "python",
   "name": "python3"
  },
  "language_info": {
   "codemirror_mode": {
    "name": "ipython",
    "version": 3
   },
   "file_extension": ".py",
   "mimetype": "text/x-python",
   "name": "python",
   "nbconvert_exporter": "python",
   "pygments_lexer": "ipython3",
   "version": "3.7.3"
  }
 },
 "nbformat": 4,
 "nbformat_minor": 2
}
